{
 "cells": [
  {
   "cell_type": "markdown",
   "id": "50092776",
   "metadata": {
    "_cell_guid": "870116bb-3273-48bb-9b7b-d4f2c6a25c8f",
    "_uuid": "edb93a04-df26-4812-997f-6ca4776e77be",
    "papermill": {
     "duration": 0.011674,
     "end_time": "2022-08-13T09:58:32.167025",
     "exception": false,
     "start_time": "2022-08-13T09:58:32.155351",
     "status": "completed"
    },
    "tags": []
   },
   "source": [
    "# Introduction\n",
    "\n",
    "This notebook compares the performance of a custom bulit network against pre-trained ResNet18 network for the task of classification of CIFAR10 dataset.\n",
    "\n",
    "## Imports"
   ]
  },
  {
   "cell_type": "code",
   "execution_count": 1,
   "id": "3f8b478e",
   "metadata": {
    "_cell_guid": "e5a79950-8b02-4599-91a1-d1363b9f2ec7",
    "_uuid": "537ac700-63bd-457b-b15a-fd58d7aa0158",
    "collapsed": false,
    "execution": {
     "iopub.execute_input": "2022-08-13T09:58:32.188687Z",
     "iopub.status.busy": "2022-08-13T09:58:32.187693Z",
     "iopub.status.idle": "2022-08-13T09:58:34.719383Z",
     "shell.execute_reply": "2022-08-13T09:58:34.717978Z"
    },
    "jupyter": {
     "outputs_hidden": false
    },
    "papermill": {
     "duration": 2.546544,
     "end_time": "2022-08-13T09:58:34.722829",
     "exception": false,
     "start_time": "2022-08-13T09:58:32.176285",
     "status": "completed"
    },
    "tags": []
   },
   "outputs": [],
   "source": [
    "## importing necessary libraries\n",
    "import torch\n",
    "import torch.nn as nn\n",
    "import torch.nn.functional as F\n",
    "import torch.optim as optim\n",
    "import torchvision\n",
    "import torchvision.transforms as transforms\n",
    "import matplotlib.pyplot as plt\n",
    "import numpy as np"
   ]
  },
  {
   "cell_type": "code",
   "execution_count": 2,
   "id": "05eb7f3f",
   "metadata": {
    "execution": {
     "iopub.execute_input": "2022-08-13T09:58:34.744062Z",
     "iopub.status.busy": "2022-08-13T09:58:34.743576Z",
     "iopub.status.idle": "2022-08-13T09:58:34.857171Z",
     "shell.execute_reply": "2022-08-13T09:58:34.855671Z"
    },
    "papermill": {
     "duration": 0.127661,
     "end_time": "2022-08-13T09:58:34.860486",
     "exception": false,
     "start_time": "2022-08-13T09:58:34.732825",
     "status": "completed"
    },
    "tags": []
   },
   "outputs": [
    {
     "name": "stdout",
     "output_type": "stream",
     "text": [
      "The device is: cuda\n"
     ]
    }
   ],
   "source": [
    "use_cuda = torch.cuda.is_available()\n",
    "device =torch.device('cuda' if use_cuda else 'cpu')\n",
    "print(f\"The device is: {device}\")"
   ]
  },
  {
   "cell_type": "markdown",
   "id": "00333ecd",
   "metadata": {
    "_cell_guid": "77f484bc-b818-4196-8d0d-54beb6cad0d5",
    "_uuid": "f84a318e-5df6-4141-b515-1115028a767f",
    "papermill": {
     "duration": 0.011211,
     "end_time": "2022-08-13T09:58:34.881448",
     "exception": false,
     "start_time": "2022-08-13T09:58:34.870237",
     "status": "completed"
    },
    "tags": []
   },
   "source": [
    "## Load the Dataset"
   ]
  },
  {
   "cell_type": "code",
   "execution_count": 3,
   "id": "65572b0b",
   "metadata": {
    "_cell_guid": "6122a6f1-bf8c-44b8-9b50-041f44d7be46",
    "_uuid": "83e1d64e-5894-4909-b8a0-c4c0f9ed4519",
    "collapsed": false,
    "execution": {
     "iopub.execute_input": "2022-08-13T09:58:34.903899Z",
     "iopub.status.busy": "2022-08-13T09:58:34.903543Z",
     "iopub.status.idle": "2022-08-13T09:58:34.911586Z",
     "shell.execute_reply": "2022-08-13T09:58:34.910037Z"
    },
    "jupyter": {
     "outputs_hidden": false
    },
    "papermill": {
     "duration": 0.021764,
     "end_time": "2022-08-13T09:58:34.914307",
     "exception": false,
     "start_time": "2022-08-13T09:58:34.892543",
     "status": "completed"
    },
    "tags": []
   },
   "outputs": [],
   "source": [
    "# Define transforms\n",
    "transform_train =transforms.Compose([transforms.RandomVerticalFlip(),\n",
    "                                     transforms.RandomRotation(120),\n",
    "                                     transforms.RandomHorizontalFlip(45),\n",
    "                                     transforms.ToTensor(),\n",
    "                                     transforms.Normalize((0.5,0.5,0.5),(0.5,0.5,0.5))])\n",
    "transform_test = transforms.Compose([transforms.ToTensor(),\n",
    "                                     transforms.Normalize((0.5,0.5,0.5),(0.5,0.5,0.5))])\n",
    "                    "
   ]
  },
  {
   "cell_type": "code",
   "execution_count": 4,
   "id": "e0296260",
   "metadata": {
    "execution": {
     "iopub.execute_input": "2022-08-13T09:58:34.935530Z",
     "iopub.status.busy": "2022-08-13T09:58:34.934562Z",
     "iopub.status.idle": "2022-08-13T09:58:46.034848Z",
     "shell.execute_reply": "2022-08-13T09:58:46.033422Z"
    },
    "papermill": {
     "duration": 11.114179,
     "end_time": "2022-08-13T09:58:46.038067",
     "exception": false,
     "start_time": "2022-08-13T09:58:34.923888",
     "status": "completed"
    },
    "tags": []
   },
   "outputs": [
    {
     "name": "stdout",
     "output_type": "stream",
     "text": [
      "Downloading https://www.cs.toronto.edu/~kriz/cifar-10-python.tar.gz to /kaggle/working/cifar-10-python.tar.gz\n"
     ]
    },
    {
     "data": {
      "application/vnd.jupyter.widget-view+json": {
       "model_id": "709b736f5fd24c98b8b990d63838bd2f",
       "version_major": 2,
       "version_minor": 0
      },
      "text/plain": [
       "  0%|          | 0/170498071 [00:00<?, ?it/s]"
      ]
     },
     "metadata": {},
     "output_type": "display_data"
    },
    {
     "name": "stdout",
     "output_type": "stream",
     "text": [
      "Extracting /kaggle/working/cifar-10-python.tar.gz to /kaggle/working\n",
      "Files already downloaded and verified\n"
     ]
    }
   ],
   "source": [
    "# Create training set and define training and validation dataloader\n",
    "train_set = torchvision.datasets.CIFAR10(root=\"/kaggle/working\",train =True, transform = transform_train, download=True)\n",
    "\n",
    "# split the train set into train and validation set\n",
    "val_data, train_data = torch.utils.data.random_split(train_set, [1000, 49000])\n",
    "\n",
    "train_loader = torch.utils.data.DataLoader(train_data, batch_size =64, \n",
    "                                           shuffle =True, num_workers =2)\n",
    "val_loader =  torch.utils.data.DataLoader(val_data, batch_size=64,\n",
    "                                          shuffle=True, num_workers=2)\n",
    "\n",
    "# Create test set and define test dataloader\n",
    "test_data = torchvision.datasets.CIFAR10(root=\"/kaggle/working\",train =False, transform = transform_test, download=True)\n",
    "test_loader = torch.utils.data.DataLoader(train_data, batch_size = 64, shuffle =True, num_workers =2)\n",
    "\n",
    "# The 10 classes in the dataset\n",
    "classes = ('plane', 'car', 'bird', 'cat', 'deer', 'dog', 'frog', 'horse', 'ship', 'truck')"
   ]
  },
  {
   "cell_type": "markdown",
   "id": "e937a511",
   "metadata": {
    "_cell_guid": "c23ea228-d31c-4009-90a3-8b677db6996e",
    "_uuid": "fe239c26-3cb6-4645-b3f7-fdbc8e642920",
    "papermill": {
     "duration": 0.009859,
     "end_time": "2022-08-13T09:58:46.058640",
     "exception": false,
     "start_time": "2022-08-13T09:58:46.048781",
     "status": "completed"
    },
    "tags": []
   },
   "source": [
    "## Explore the Dataset"
   ]
  },
  {
   "cell_type": "code",
   "execution_count": 5,
   "id": "bd5de8bf",
   "metadata": {
    "execution": {
     "iopub.execute_input": "2022-08-13T09:58:46.081458Z",
     "iopub.status.busy": "2022-08-13T09:58:46.080088Z",
     "iopub.status.idle": "2022-08-13T09:58:46.088798Z",
     "shell.execute_reply": "2022-08-13T09:58:46.086934Z"
    },
    "papermill": {
     "duration": 0.024709,
     "end_time": "2022-08-13T09:58:46.093385",
     "exception": false,
     "start_time": "2022-08-13T09:58:46.068676",
     "status": "completed"
    },
    "tags": []
   },
   "outputs": [
    {
     "name": "stdout",
     "output_type": "stream",
     "text": [
      "Training set has: 49000 samples\n",
      "Validation set has: 1000 samples\n",
      "Test set has: 10000 samples\n"
     ]
    }
   ],
   "source": [
    "## Exploring the data\n",
    "print(f\"Training set has: {train_data.__len__()} samples\")\n",
    "print(f\"Validation set has: {val_data.__len__()} samples\")\n",
    "print(f\"Test set has: {test_data.__len__()} samples\")\n"
   ]
  },
  {
   "cell_type": "code",
   "execution_count": 6,
   "id": "a693af54",
   "metadata": {
    "_cell_guid": "30e4d36e-2e63-4131-a640-d965bfe53215",
    "_uuid": "54ee82e6-677b-4eb9-af8f-9a08abdb00d7",
    "collapsed": false,
    "execution": {
     "iopub.execute_input": "2022-08-13T09:58:46.114732Z",
     "iopub.status.busy": "2022-08-13T09:58:46.114380Z",
     "iopub.status.idle": "2022-08-13T09:58:46.121749Z",
     "shell.execute_reply": "2022-08-13T09:58:46.120393Z"
    },
    "jupyter": {
     "outputs_hidden": false
    },
    "papermill": {
     "duration": 0.020962,
     "end_time": "2022-08-13T09:58:46.124362",
     "exception": false,
     "start_time": "2022-08-13T09:58:46.103400",
     "status": "completed"
    },
    "tags": []
   },
   "outputs": [],
   "source": [
    "def show5(img_loader):\n",
    "    dataiter = iter(img_loader)\n",
    "    \n",
    "    batch = next(dataiter)\n",
    "    labels = batch[1][0:5]\n",
    "    images = batch[0][0:5]\n",
    "    print(f\"Image shape : {np.shape(images[0].numpy())} \\n\")\n",
    "    for i in range(5):\n",
    "        print(classes[labels[i]])\n",
    "    \n",
    "        image = images[i].numpy()\n",
    "        plt.imshow(image.T)\n",
    "        plt.show()"
   ]
  },
  {
   "cell_type": "code",
   "execution_count": 7,
   "id": "6f9e7182",
   "metadata": {
    "_cell_guid": "1830783c-e9f8-483c-b4a0-f72c35df3898",
    "_uuid": "a6ff77bb-70f0-46e9-9202-c95bea95c3e6",
    "collapsed": false,
    "execution": {
     "iopub.execute_input": "2022-08-13T09:58:46.145425Z",
     "iopub.status.busy": "2022-08-13T09:58:46.144798Z",
     "iopub.status.idle": "2022-08-13T09:58:47.555147Z",
     "shell.execute_reply": "2022-08-13T09:58:47.553614Z"
    },
    "jupyter": {
     "outputs_hidden": false
    },
    "papermill": {
     "duration": 1.424444,
     "end_time": "2022-08-13T09:58:47.558445",
     "exception": false,
     "start_time": "2022-08-13T09:58:46.134001",
     "status": "completed"
    },
    "tags": []
   },
   "outputs": [
    {
     "name": "stdout",
     "output_type": "stream",
     "text": [
      "Image shape : (3, 32, 32) \n",
      "\n",
      "cat\n"
     ]
    },
    {
     "data": {
      "image/png": "[encoded data removed]",
      "text/plain": [
       "<Figure size 432x288 with 1 Axes>"
      ]
     },
     "metadata": {
      "needs_background": "light"
     },
     "output_type": "display_data"
    },
    {
     "name": "stdout",
     "output_type": "stream",
     "text": [
      "horse\n"
     ]
    },
    {
     "data": {
      "image/png": "[encoded data removed]",
      "text/plain": [
       "<Figure size 432x288 with 1 Axes>"
      ]
     },
     "metadata": {
      "needs_background": "light"
     },
     "output_type": "display_data"
    },
    {
     "name": "stdout",
     "output_type": "stream",
     "text": [
      "dog\n"
     ]
    },
    {
     "data": {
      "image/png": "[encoded data removed]",
      "text/plain": [
       "<Figure size 432x288 with 1 Axes>"
      ]
     },
     "metadata": {
      "needs_background": "light"
     },
     "output_type": "display_data"
    },
    {
     "name": "stdout",
     "output_type": "stream",
     "text": [
      "dog\n"
     ]
    },
    {
     "data": {
      "image/png": "[encoded data removed]",
      "text/plain": [
       "<Figure size 432x288 with 1 Axes>"
      ]
     },
     "metadata": {
      "needs_background": "light"
     },
     "output_type": "display_data"
    },
    {
     "name": "stdout",
     "output_type": "stream",
     "text": [
      "ship\n"
     ]
    },
    {
     "data": {
      "image/png": "[encoded data removed]",
      "text/plain": [
       "<Figure size 432x288 with 1 Axes>"
      ]
     },
     "metadata": {
      "needs_background": "light"
     },
     "output_type": "display_data"
    }
   ],
   "source": [
    "# Explore data\n",
    "show5(train_loader)"
   ]
  },
  {
   "cell_type": "markdown",
   "id": "08ef5dd0",
   "metadata": {
    "_cell_guid": "f65b63ee-7b6c-4d6e-9706-1df3dc49ba40",
    "_uuid": "8da647ca-7f9f-44b8-985e-c87115a10dbc",
    "papermill": {
     "duration": 0.012208,
     "end_time": "2022-08-13T09:58:47.584080",
     "exception": false,
     "start_time": "2022-08-13T09:58:47.571872",
     "status": "completed"
    },
    "tags": []
   },
   "source": [
    "## Build your Neural Network\n",
    "Using the layers in `torch.nn` (which has been imported as `nn`) and the `torch.nn.functional` module (imported as `F`), construct a neural network based on the parameters of the dataset. \n",
    "Feel free to construct a model of any architecture – feedforward, convolutional, or even something more advanced!"
   ]
  },
  {
   "cell_type": "code",
   "execution_count": 8,
   "id": "a014e9be",
   "metadata": {
    "execution": {
     "iopub.execute_input": "2022-08-13T09:58:47.608967Z",
     "iopub.status.busy": "2022-08-13T09:58:47.608589Z",
     "iopub.status.idle": "2022-08-13T09:58:47.622461Z",
     "shell.execute_reply": "2022-08-13T09:58:47.621012Z"
    },
    "papermill": {
     "duration": 0.029749,
     "end_time": "2022-08-13T09:58:47.625090",
     "exception": false,
     "start_time": "2022-08-13T09:58:47.595341",
     "status": "completed"
    },
    "tags": []
   },
   "outputs": [],
   "source": [
    "class mynet(nn.Module):\n",
    "    def __init__(self):\n",
    "        super(mynet, self).__init__()\n",
    "\n",
    "        self.conv1 = nn.Conv2d(3, 128, 3)       \n",
    "        self.conv2 = nn.Conv2d(128, 256, 4)\n",
    "        self.conv3 = nn.Conv2d(256, 512, 3)\n",
    "        self.fc1 = nn.Linear(512 * 2 * 2, 200)\n",
    "        self.bn1 = nn.BatchNorm1d(200)\n",
    "        self.fc2 = nn.Linear(200,90)\n",
    "        self.bn2 = nn.BatchNorm1d(90)\n",
    "        self.fc3 = nn.Linear(90, 50)\n",
    "        self.bn3 = nn.BatchNorm1d(50)\n",
    "        self.fc4 = nn.Linear(50, 10)\n",
    "        self.dropout = nn.Dropout(0.5)\n",
    "        self.pool = nn.MaxPool2d(2, 2)\n",
    "\n",
    "    def forward(self, x):\n",
    "\n",
    "        #conv layer 1\n",
    "        x = F.relu(self.conv1(x))\n",
    "        x = self.pool(x)\n",
    "        #conv layer 2\n",
    "        x = F.relu(self.conv2(x))\n",
    "        x = self.pool(x)\n",
    "        #conv layer 3\n",
    "        x = F.relu(self.conv3(x))\n",
    "        x = self.pool(x)\n",
    "        #flatten\n",
    "        x = x.reshape(-1, 2*2*512)\n",
    "        #fc 1\n",
    "        x = F.relu(self.fc1(x))\n",
    "        x = self.bn1(x)\n",
    "        #fc2\n",
    "        x = F.relu(self.fc2(x))\n",
    "        x = self.dropout(x)\n",
    "        x = self.bn2(x)\n",
    "        #fc3\n",
    "        x = F.elu(self.fc3(x))\n",
    "        x = self.dropout(x)\n",
    "        x = self.bn3(x)\n",
    "        #fc4\n",
    "        x=self.fc4(x)      \n",
    "        return x"
   ]
  },
  {
   "cell_type": "markdown",
   "id": "039505a9",
   "metadata": {
    "_cell_guid": "9182d679-4fa4-48ed-a5ba-1901b1853e84",
    "_uuid": "127958b9-cf88-4fa2-815a-22eddc2b087c",
    "papermill": {
     "duration": 0.01074,
     "end_time": "2022-08-13T09:58:47.647189",
     "exception": false,
     "start_time": "2022-08-13T09:58:47.636449",
     "status": "completed"
    },
    "tags": []
   },
   "source": [
    "Specify a loss function and an optimizer, and instantiate the model.\n",
    "\n",
    "If you use a less common loss function, please note why you chose that loss function in a comment."
   ]
  },
  {
   "cell_type": "code",
   "execution_count": 9,
   "id": "d137ef88",
   "metadata": {
    "execution": {
     "iopub.execute_input": "2022-08-13T09:58:47.671139Z",
     "iopub.status.busy": "2022-08-13T09:58:47.670748Z",
     "iopub.status.idle": "2022-08-13T09:58:51.588815Z",
     "shell.execute_reply": "2022-08-13T09:58:51.587401Z"
    },
    "papermill": {
     "duration": 3.934482,
     "end_time": "2022-08-13T09:58:51.592974",
     "exception": false,
     "start_time": "2022-08-13T09:58:47.658492",
     "status": "completed"
    },
    "tags": []
   },
   "outputs": [],
   "source": [
    "model = mynet().to(device)"
   ]
  },
  {
   "cell_type": "code",
   "execution_count": 10,
   "id": "d2aa18a1",
   "metadata": {
    "_cell_guid": "74e9d40e-9c10-418e-ae8b-fabb7cdfbb7e",
    "_uuid": "4925eb12-7592-41e2-bd02-9204b17f1e7b",
    "collapsed": false,
    "execution": {
     "iopub.execute_input": "2022-08-13T09:58:51.617465Z",
     "iopub.status.busy": "2022-08-13T09:58:51.617061Z",
     "iopub.status.idle": "2022-08-13T09:58:51.623688Z",
     "shell.execute_reply": "2022-08-13T09:58:51.622150Z"
    },
    "jupyter": {
     "outputs_hidden": false
    },
    "papermill": {
     "duration": 0.022474,
     "end_time": "2022-08-13T09:58:51.627163",
     "exception": false,
     "start_time": "2022-08-13T09:58:51.604689",
     "status": "completed"
    },
    "tags": []
   },
   "outputs": [],
   "source": [
    "criterion = nn.CrossEntropyLoss()\n",
    "optimizer = optim.Adam(model.parameters(), lr=1e-3)"
   ]
  },
  {
   "cell_type": "markdown",
   "id": "91866b73",
   "metadata": {
    "_cell_guid": "738e096b-757c-437f-9a6c-cad1464f68f8",
    "_uuid": "4c06d8eb-cf9b-4d69-9041-c9ed00aefe00",
    "papermill": {
     "duration": 0.010453,
     "end_time": "2022-08-13T09:58:51.648458",
     "exception": false,
     "start_time": "2022-08-13T09:58:51.638005",
     "status": "completed"
    },
    "tags": []
   },
   "source": [
    "## Running your Neural Network\n",
    "Use whatever method you like to train your neural network, and ensure you record the average loss at each epoch. \n",
    "Don't forget to use `torch.device()` and the `.to()` method for both your model and your data if you are using GPU!\n",
    "\n",
    "If you want to print your loss during each epoch, you can use the `enumerate` function and print the loss after a set number of batches. 250 batches works well for most people!"
   ]
  },
  {
   "cell_type": "code",
   "execution_count": 11,
   "id": "198a46f4",
   "metadata": {
    "execution": {
     "iopub.execute_input": "2022-08-13T09:58:51.672786Z",
     "iopub.status.busy": "2022-08-13T09:58:51.672445Z",
     "iopub.status.idle": "2022-08-13T09:58:51.686802Z",
     "shell.execute_reply": "2022-08-13T09:58:51.685562Z"
    },
    "papermill": {
     "duration": 0.030062,
     "end_time": "2022-08-13T09:58:51.689648",
     "exception": false,
     "start_time": "2022-08-13T09:58:51.659586",
     "status": "completed"
    },
    "tags": []
   },
   "outputs": [],
   "source": [
    "def get_accuracy(pred, labels):\n",
    "    total = 0\n",
    "    correct = 0 \n",
    "    labels , pred = labels.cpu() , pred.cpu()\n",
    "    _,predicted = torch.max(pred , 1)\n",
    "    total += len(labels.numpy())\n",
    "    correct += ((predicted == labels).numpy()).sum()\n",
    "    return correct/total\n",
    "\n",
    "def validate(model, valoader, criterion):\n",
    "    val_loss = 0\n",
    "    val_accuracy = 0\n",
    "    model.eval()\n",
    "    with torch.no_grad():\n",
    "        for batch_idx, (inputs, targets) in enumerate(val_loader):\n",
    "            inputs, targets = inputs.to(device), targets.to(device)\n",
    "            outputs = model(inputs)\n",
    "            loss = criterion(outputs, targets)\n",
    "            val_loss += loss.item()\n",
    "            accuracy = get_accuracy(outputs, targets)\n",
    "            val_accuracy += accuracy\n",
    "        avg_loss = val_loss/(batch_idx+1)\n",
    "        avg_acc = val_accuracy/(batch_idx+1)\n",
    "        \n",
    "    return avg_loss, avg_acc\n",
    "    \n",
    "    \n",
    "def train_one_epoch(model, trainloader, optimizer, criterion):\n",
    "    model.train()\n",
    "    train_loss = 0\n",
    "    train_accuracy = 0\n",
    "    for batch_idx, (inputs, targets) in enumerate(trainloader):\n",
    "        inputs, targets = inputs.to(device), targets.to(device)\n",
    "        optimizer.zero_grad()\n",
    "        outputs = model(inputs)\n",
    "        loss = criterion(outputs, targets)\n",
    "        loss.backward()\n",
    "        optimizer.step()\n",
    "        train_loss += loss.item()\n",
    "        accuracy = get_accuracy(outputs, targets)\n",
    "        train_accuracy += accuracy\n",
    "    avg_train_loss = train_loss/(batch_idx+1)\n",
    "    avg_train_acc = train_accuracy/(batch_idx+1)\n",
    "    return avg_train_loss, avg_train_acc, model "
   ]
  },
  {
   "cell_type": "code",
   "execution_count": 12,
   "id": "b7ca289e",
   "metadata": {
    "execution": {
     "iopub.execute_input": "2022-08-13T09:58:51.714808Z",
     "iopub.status.busy": "2022-08-13T09:58:51.713614Z",
     "iopub.status.idle": "2022-08-13T10:15:20.754702Z",
     "shell.execute_reply": "2022-08-13T10:15:20.752819Z"
    },
    "papermill": {
     "duration": 989.071045,
     "end_time": "2022-08-13T10:15:20.772143",
     "exception": false,
     "start_time": "2022-08-13T09:58:51.701098",
     "status": "completed"
    },
    "tags": []
   },
   "outputs": [
    {
     "name": "stdout",
     "output_type": "stream",
     "text": [
      "0 Train Loss: 1.9562 Train Acc: 0.2683 Val Loss: 1.8829 Val Acc: 0.3080\n",
      "None\n",
      "1 Train Loss: 1.7473 Train Acc: 0.3549 Val Loss: 1.6558 Val Acc: 0.3855\n",
      "None\n",
      "2 Train Loss: 1.7612 Train Acc: 0.3488 Val Loss: 2.0842 Val Acc: 0.2406\n",
      "None\n",
      "3 Train Loss: 1.6588 Train Acc: 0.3884 Val Loss: 1.5868 Val Acc: 0.4076\n",
      "None\n",
      "4 Train Loss: 1.6047 Train Acc: 0.4094 Val Loss: 1.6353 Val Acc: 0.3859\n",
      "None\n",
      "5 Train Loss: 1.5575 Train Acc: 0.4261 Val Loss: 1.4632 Val Acc: 0.4494\n",
      "None\n",
      "6 Train Loss: 1.5198 Train Acc: 0.4389 Val Loss: 1.4906 Val Acc: 0.4393\n",
      "None\n",
      "7 Train Loss: 1.4927 Train Acc: 0.4497 Val Loss: 1.6556 Val Acc: 0.3943\n",
      "None\n",
      "8 Train Loss: 1.4800 Train Acc: 0.4548 Val Loss: 1.3974 Val Acc: 0.4773\n",
      "None\n",
      "9 Train Loss: 1.4505 Train Acc: 0.4686 Val Loss: 1.3671 Val Acc: 0.4984\n",
      "None\n",
      "10 Train Loss: 1.4283 Train Acc: 0.4735 Val Loss: 1.4081 Val Acc: 0.4822\n",
      "None\n",
      "11 Train Loss: 1.4134 Train Acc: 0.4851 Val Loss: 1.3382 Val Acc: 0.5098\n",
      "None\n",
      "12 Train Loss: 1.3954 Train Acc: 0.4918 Val Loss: 1.3632 Val Acc: 0.4934\n",
      "None\n",
      "13 Train Loss: 1.3896 Train Acc: 0.4950 Val Loss: 1.3377 Val Acc: 0.5162\n",
      "None\n",
      "14 Train Loss: 1.3543 Train Acc: 0.5110 Val Loss: 1.2520 Val Acc: 0.5527\n",
      "None\n",
      "15 Train Loss: 1.3448 Train Acc: 0.5185 Val Loss: 1.2866 Val Acc: 0.5447\n",
      "None\n",
      "16 Train Loss: 1.3267 Train Acc: 0.5272 Val Loss: 1.2418 Val Acc: 0.5510\n",
      "None\n",
      "17 Train Loss: 1.3116 Train Acc: 0.5353 Val Loss: 1.3215 Val Acc: 0.5289\n",
      "None\n",
      "18 Train Loss: 1.2962 Train Acc: 0.5426 Val Loss: 1.4039 Val Acc: 0.5242\n",
      "None\n",
      "19 Train Loss: 1.2893 Train Acc: 0.5497 Val Loss: 1.2004 Val Acc: 0.5852\n",
      "None\n",
      "20 Train Loss: 1.2758 Train Acc: 0.5537 Val Loss: 1.2036 Val Acc: 0.5848\n",
      "None\n",
      "21 Train Loss: 1.2627 Train Acc: 0.5595 Val Loss: 1.2073 Val Acc: 0.5912\n",
      "None\n",
      "22 Train Loss: 1.2489 Train Acc: 0.5681 Val Loss: 1.1609 Val Acc: 0.5910\n",
      "None\n",
      "23 Train Loss: 1.2430 Train Acc: 0.5704 Val Loss: 1.1846 Val Acc: 0.5816\n",
      "None\n",
      "24 Train Loss: 1.2276 Train Acc: 0.5743 Val Loss: 1.1461 Val Acc: 0.5893\n",
      "None\n",
      "25 Train Loss: 1.2189 Train Acc: 0.5798 Val Loss: 1.1013 Val Acc: 0.6104\n",
      "None\n",
      "26 Train Loss: 1.2164 Train Acc: 0.5808 Val Loss: 1.1641 Val Acc: 0.5961\n",
      "None\n",
      "27 Train Loss: 1.2009 Train Acc: 0.5877 Val Loss: 1.1411 Val Acc: 0.5969\n",
      "None\n",
      "28 Train Loss: 1.1928 Train Acc: 0.5906 Val Loss: 1.1391 Val Acc: 0.5977\n",
      "None\n",
      "29 Train Loss: 1.1855 Train Acc: 0.5967 Val Loss: 1.1161 Val Acc: 0.6043\n",
      "None\n"
     ]
    }
   ],
   "source": [
    "epochs     = []\n",
    "loss_train = []\n",
    "acc_train  = []\n",
    "loss_val   = []\n",
    "acc_val    = []\n",
    "for epoch in range(30):\n",
    "    train_loss,train_acc, model = train_one_epoch(model, train_loader,\n",
    "                                        optimizer, criterion)\n",
    "    val_loss, val_acc = validate(model, val_loader, criterion)\n",
    "    \n",
    "    message = print(f'{epoch} Train Loss: {train_loss:.4f} Train Acc: {train_acc:.4f} Val Loss: {val_loss:.4f} Val Acc: {val_acc:.4f}')\n",
    "    \n",
    "    print(message)\n",
    "    \n",
    "    epochs.append(epoch)\n",
    "    loss_train.append(train_loss)\n",
    "    loss_val.append(val_loss)\n",
    "    acc_train.append(train_acc)\n",
    "    acc_val.append(val_acc)"
   ]
  },
  {
   "cell_type": "markdown",
   "id": "d7f7a277",
   "metadata": {
    "_cell_guid": "929ea292-ddce-4467-881a-bab5ddef6ed5",
    "_uuid": "2a41220a-8da7-4588-abc5-8cf0ef6e1830",
    "papermill": {
     "duration": 0.012795,
     "end_time": "2022-08-13T10:15:20.799728",
     "exception": false,
     "start_time": "2022-08-13T10:15:20.786933",
     "status": "completed"
    },
    "tags": []
   },
   "source": [
    "Plots"
   ]
  },
  {
   "cell_type": "code",
   "execution_count": 13,
   "id": "f623d2f5",
   "metadata": {
    "_cell_guid": "63ae2201-a2e4-4bb1-9cb4-09155742d25a",
    "_uuid": "4fa201dc-1ad1-43be-aa14-169642f1e442",
    "collapsed": false,
    "execution": {
     "iopub.execute_input": "2022-08-13T10:15:20.829475Z",
     "iopub.status.busy": "2022-08-13T10:15:20.828054Z",
     "iopub.status.idle": "2022-08-13T10:15:21.106662Z",
     "shell.execute_reply": "2022-08-13T10:15:21.105189Z"
    },
    "jupyter": {
     "outputs_hidden": false
    },
    "papermill": {
     "duration": 0.296239,
     "end_time": "2022-08-13T10:15:21.109345",
     "exception": false,
     "start_time": "2022-08-13T10:15:20.813106",
     "status": "completed"
    },
    "tags": []
   },
   "outputs": [
    {
     "data": {
      "text/plain": [
       "<matplotlib.legend.Legend at 0x7f62f94b1610>"
      ]
     },
     "execution_count": 13,
     "metadata": {},
     "output_type": "execute_result"
    },
    {
     "data": {
      "image/png": "[encoded data removed]",
      "text/plain": [
       "<Figure size 432x288 with 1 Axes>"
      ]
     },
     "metadata": {
      "needs_background": "light"
     },
     "output_type": "display_data"
    }
   ],
   "source": [
    "## Plotting Training accuracy against the epochs\n",
    "plt.plot(epochs,acc_train, 'r-',label='Train Accuracy')\n",
    "plt.plot(epochs,acc_val, 'g-',label='Val Accuracy')\n",
    "plt.xlabel(\"Epochs\")\n",
    "plt.ylabel(\"Accuracy\")\n",
    "plt.title(\"Train accuracy and validation accuracy --Custom Net\")\n",
    "plt.legend()"
   ]
  },
  {
   "cell_type": "code",
   "execution_count": 14,
   "id": "6143ed70",
   "metadata": {
    "execution": {
     "iopub.execute_input": "2022-08-13T10:15:21.139406Z",
     "iopub.status.busy": "2022-08-13T10:15:21.138526Z",
     "iopub.status.idle": "2022-08-13T10:15:21.386359Z",
     "shell.execute_reply": "2022-08-13T10:15:21.385037Z"
    },
    "papermill": {
     "duration": 0.265549,
     "end_time": "2022-08-13T10:15:21.389079",
     "exception": false,
     "start_time": "2022-08-13T10:15:21.123530",
     "status": "completed"
    },
    "tags": []
   },
   "outputs": [
    {
     "data": {
      "text/plain": [
       "<matplotlib.legend.Legend at 0x7f624cd5dc10>"
      ]
     },
     "execution_count": 14,
     "metadata": {},
     "output_type": "execute_result"
    },
    {
     "data": {
      "image/png": "[encoded data removed]",
      "text/plain": [
       "<Figure size 432x288 with 1 Axes>"
      ]
     },
     "metadata": {
      "needs_background": "light"
     },
     "output_type": "display_data"
    }
   ],
   "source": [
    "## Plotting Training accuracy against the epochs\n",
    "plt.plot(epochs,loss_train, 'r-',label='Train Loss')\n",
    "plt.plot(epochs,loss_val, 'g-',label='Val Loss')\n",
    "plt.xlabel(\"Epochs\")\n",
    "plt.ylabel(\"Accuracy\")\n",
    "plt.title(\"Train loss and validation loss --Custom Net\" )\n",
    "plt.legend()"
   ]
  },
  {
   "cell_type": "markdown",
   "id": "4b318e92",
   "metadata": {
    "_cell_guid": "84ce7644-9f49-4a6e-824a-8b89adfe1450",
    "_uuid": "890dae35-739e-4060-b057-d76f93c52af3",
    "papermill": {
     "duration": 0.014296,
     "end_time": "2022-08-13T10:15:21.418151",
     "exception": false,
     "start_time": "2022-08-13T10:15:21.403855",
     "status": "completed"
    },
    "tags": []
   },
   "source": [
    "## Testing the custom model"
   ]
  },
  {
   "cell_type": "code",
   "execution_count": 15,
   "id": "722e7960",
   "metadata": {
    "_cell_guid": "d24da832-c2f2-469b-a3a7-abb38dc735ad",
    "_uuid": "f91f1495-bf6e-40e9-9163-55fa4be51c15",
    "collapsed": false,
    "execution": {
     "iopub.execute_input": "2022-08-13T10:15:21.451401Z",
     "iopub.status.busy": "2022-08-13T10:15:21.449922Z",
     "iopub.status.idle": "2022-08-13T10:15:49.677653Z",
     "shell.execute_reply": "2022-08-13T10:15:49.676078Z"
    },
    "jupyter": {
     "outputs_hidden": false
    },
    "papermill": {
     "duration": 28.247108,
     "end_time": "2022-08-13T10:15:49.680850",
     "exception": false,
     "start_time": "2022-08-13T10:15:21.433742",
     "status": "completed"
    },
    "tags": []
   },
   "outputs": [
    {
     "name": "stdout",
     "output_type": "stream",
     "text": [
      "accuracy of the network on test set:62.80408163265306%\n"
     ]
    }
   ],
   "source": [
    "correct = 0 # number of correct predictions\n",
    "total   = 0 # number of samples in test set\n",
    "\n",
    "with torch.no_grad():\n",
    "    for data in test_loader:\n",
    "        images, labels = data\n",
    "        images, labels =images.to(device), labels.to(device)\n",
    "        model.eval()\n",
    "        outputs = model(images)\n",
    "        _,predicted = torch.max(outputs.data , 1)\n",
    "        total += labels.size(0)\n",
    "        correct += ((predicted.cpu() == labels.cpu()).numpy()).sum()\n",
    "print(f\"accuracy of the network on test set:{100*correct/total}%\")\n",
    "        "
   ]
  },
  {
   "cell_type": "markdown",
   "id": "bc2c350f",
   "metadata": {
    "papermill": {
     "duration": 0.014192,
     "end_time": "2022-08-13T10:15:49.709785",
     "exception": false,
     "start_time": "2022-08-13T10:15:49.695593",
     "status": "completed"
    },
    "tags": []
   },
   "source": [
    "## Transfer Learning for CIFAR10 with ResNet-18"
   ]
  },
  {
   "cell_type": "markdown",
   "id": "e8c5b994",
   "metadata": {
    "papermill": {
     "duration": 0.014524,
     "end_time": "2022-08-13T10:15:49.738358",
     "exception": false,
     "start_time": "2022-08-13T10:15:49.723834",
     "status": "completed"
    },
    "tags": []
   },
   "source": [
    "### Try 1: finetuning the complete ResNet-18\n"
   ]
  },
  {
   "cell_type": "code",
   "execution_count": 16,
   "id": "6a5ddb2b",
   "metadata": {
    "execution": {
     "iopub.execute_input": "2022-08-13T10:15:49.772207Z",
     "iopub.status.busy": "2022-08-13T10:15:49.769891Z",
     "iopub.status.idle": "2022-08-13T10:15:51.102365Z",
     "shell.execute_reply": "2022-08-13T10:15:51.101038Z"
    },
    "papermill": {
     "duration": 1.352396,
     "end_time": "2022-08-13T10:15:51.105656",
     "exception": false,
     "start_time": "2022-08-13T10:15:49.753260",
     "status": "completed"
    },
    "tags": []
   },
   "outputs": [
    {
     "name": "stderr",
     "output_type": "stream",
     "text": [
      "Downloading: \"https://download.pytorch.org/models/resnet18-f37072fd.pth\" to /root/.cache/torch/hub/checkpoints/resnet18-f37072fd.pth\n"
     ]
    },
    {
     "data": {
      "application/vnd.jupyter.widget-view+json": {
       "model_id": "ea4e399ba5ad43cb9934de509c7b17d1",
       "version_major": 2,
       "version_minor": 0
      },
      "text/plain": [
       "  0%|          | 0.00/44.7M [00:00<?, ?B/s]"
      ]
     },
     "metadata": {},
     "output_type": "display_data"
    }
   ],
   "source": [
    "resnet1 = torchvision.models.resnet18(pretrained=True)"
   ]
  },
  {
   "cell_type": "code",
   "execution_count": 17,
   "id": "aecee0f8",
   "metadata": {
    "execution": {
     "iopub.execute_input": "2022-08-13T10:15:51.136834Z",
     "iopub.status.busy": "2022-08-13T10:15:51.136502Z",
     "iopub.status.idle": "2022-08-13T10:15:51.143322Z",
     "shell.execute_reply": "2022-08-13T10:15:51.141958Z"
    },
    "papermill": {
     "duration": 0.025542,
     "end_time": "2022-08-13T10:15:51.146184",
     "exception": false,
     "start_time": "2022-08-13T10:15:51.120642",
     "status": "completed"
    },
    "tags": []
   },
   "outputs": [],
   "source": [
    "# modifying the fully connected layer \n",
    "fc_in = resnet1.fc.in_features\n",
    "resnet1.fc = nn.Linear(fc_in, 10)"
   ]
  },
  {
   "cell_type": "code",
   "execution_count": 18,
   "id": "e7d38c17",
   "metadata": {
    "execution": {
     "iopub.execute_input": "2022-08-13T10:15:51.177731Z",
     "iopub.status.busy": "2022-08-13T10:15:51.177366Z",
     "iopub.status.idle": "2022-08-13T10:15:51.211953Z",
     "shell.execute_reply": "2022-08-13T10:15:51.210603Z"
    },
    "papermill": {
     "duration": 0.054352,
     "end_time": "2022-08-13T10:15:51.214935",
     "exception": false,
     "start_time": "2022-08-13T10:15:51.160583",
     "status": "completed"
    },
    "tags": []
   },
   "outputs": [],
   "source": [
    "resnet1 = resnet1.to(device)"
   ]
  },
  {
   "cell_type": "code",
   "execution_count": 19,
   "id": "ebc20ae4",
   "metadata": {
    "execution": {
     "iopub.execute_input": "2022-08-13T10:15:51.247258Z",
     "iopub.status.busy": "2022-08-13T10:15:51.246086Z",
     "iopub.status.idle": "2022-08-13T10:15:51.254244Z",
     "shell.execute_reply": "2022-08-13T10:15:51.252933Z"
    },
    "papermill": {
     "duration": 0.027487,
     "end_time": "2022-08-13T10:15:51.257380",
     "exception": false,
     "start_time": "2022-08-13T10:15:51.229893",
     "status": "completed"
    },
    "tags": []
   },
   "outputs": [],
   "source": [
    "criterion = nn.CrossEntropyLoss()\n",
    "optimizer = optim.Adam(resnet1.parameters(), lr=1e-3)"
   ]
  },
  {
   "cell_type": "code",
   "execution_count": 20,
   "id": "8400b35a",
   "metadata": {
    "execution": {
     "iopub.execute_input": "2022-08-13T10:15:51.287810Z",
     "iopub.status.busy": "2022-08-13T10:15:51.287359Z",
     "iopub.status.idle": "2022-08-13T10:36:55.196341Z",
     "shell.execute_reply": "2022-08-13T10:36:55.192380Z"
    },
    "papermill": {
     "duration": 1263.967334,
     "end_time": "2022-08-13T10:36:55.238903",
     "exception": false,
     "start_time": "2022-08-13T10:15:51.271569",
     "status": "completed"
    },
    "tags": []
   },
   "outputs": [
    {
     "name": "stdout",
     "output_type": "stream",
     "text": [
      "0 Train Loss: 1.5515 Train Acc: 0.4425 Val Loss: 1.4000 Val Acc: 0.5164\n",
      "None\n",
      "1 Train Loss: 1.2924 Train Acc: 0.5487 Val Loss: 1.2951 Val Acc: 0.5557\n",
      "None\n",
      "2 Train Loss: 1.1978 Train Acc: 0.5823 Val Loss: 1.3009 Val Acc: 0.5518\n",
      "None\n",
      "3 Train Loss: 1.1295 Train Acc: 0.6037 Val Loss: 1.1867 Val Acc: 0.5701\n",
      "None\n",
      "4 Train Loss: 1.0729 Train Acc: 0.6233 Val Loss: 1.1076 Val Acc: 0.6412\n",
      "None\n",
      "5 Train Loss: 1.0242 Train Acc: 0.6434 Val Loss: 1.0702 Val Acc: 0.6139\n",
      "None\n",
      "6 Train Loss: 1.0005 Train Acc: 0.6501 Val Loss: 1.0571 Val Acc: 0.6443\n",
      "None\n",
      "7 Train Loss: 0.9850 Train Acc: 0.6580 Val Loss: 1.0355 Val Acc: 0.6316\n",
      "None\n",
      "8 Train Loss: 0.9834 Train Acc: 0.6587 Val Loss: 1.0049 Val Acc: 0.6541\n",
      "None\n",
      "9 Train Loss: 0.9369 Train Acc: 0.6752 Val Loss: 0.9991 Val Acc: 0.6465\n",
      "None\n",
      "10 Train Loss: 0.9231 Train Acc: 0.6762 Val Loss: 0.9470 Val Acc: 0.6711\n",
      "None\n",
      "11 Train Loss: 0.8789 Train Acc: 0.6940 Val Loss: 0.9636 Val Acc: 0.6703\n",
      "None\n",
      "12 Train Loss: 0.8838 Train Acc: 0.6933 Val Loss: 0.9475 Val Acc: 0.6633\n",
      "None\n",
      "13 Train Loss: 0.8462 Train Acc: 0.7051 Val Loss: 0.9467 Val Acc: 0.6783\n",
      "None\n",
      "14 Train Loss: 0.8319 Train Acc: 0.7083 Val Loss: 0.9157 Val Acc: 0.6756\n",
      "None\n",
      "15 Train Loss: 0.8227 Train Acc: 0.7112 Val Loss: 0.9172 Val Acc: 0.6791\n",
      "None\n",
      "16 Train Loss: 0.8156 Train Acc: 0.7157 Val Loss: 0.9332 Val Acc: 0.6848\n",
      "None\n",
      "17 Train Loss: 0.8149 Train Acc: 0.7137 Val Loss: 0.9004 Val Acc: 0.6877\n",
      "None\n",
      "18 Train Loss: 0.7803 Train Acc: 0.7265 Val Loss: 0.8644 Val Acc: 0.6793\n",
      "None\n",
      "19 Train Loss: 0.7766 Train Acc: 0.7279 Val Loss: 0.9031 Val Acc: 0.6898\n",
      "None\n",
      "20 Train Loss: 0.7804 Train Acc: 0.7281 Val Loss: 1.0442 Val Acc: 0.6395\n",
      "None\n",
      "21 Train Loss: 0.7865 Train Acc: 0.7248 Val Loss: 0.8089 Val Acc: 0.7311\n",
      "None\n",
      "22 Train Loss: 0.7383 Train Acc: 0.7432 Val Loss: 0.8434 Val Acc: 0.7127\n",
      "None\n",
      "23 Train Loss: 0.7409 Train Acc: 0.7424 Val Loss: 1.1132 Val Acc: 0.6639\n",
      "None\n",
      "24 Train Loss: 0.7290 Train Acc: 0.7438 Val Loss: 0.9185 Val Acc: 0.7051\n",
      "None\n",
      "25 Train Loss: 0.7270 Train Acc: 0.7451 Val Loss: 0.8501 Val Acc: 0.7127\n",
      "None\n",
      "26 Train Loss: 0.7263 Train Acc: 0.7453 Val Loss: 0.8523 Val Acc: 0.7027\n",
      "None\n",
      "27 Train Loss: 0.7032 Train Acc: 0.7533 Val Loss: 0.8341 Val Acc: 0.7174\n",
      "None\n",
      "28 Train Loss: 0.6998 Train Acc: 0.7535 Val Loss: 0.9152 Val Acc: 0.6926\n",
      "None\n",
      "29 Train Loss: 0.6896 Train Acc: 0.7572 Val Loss: 0.8896 Val Acc: 0.7090\n",
      "None\n"
     ]
    }
   ],
   "source": [
    "## Training resnet18 on CIFAR 10\n",
    "epochs     = []\n",
    "loss_train = []\n",
    "acc_train  = []\n",
    "loss_val   = []\n",
    "acc_val    = []\n",
    "for epoch in range(30):\n",
    "    train_loss,train_acc, model = train_one_epoch(resnet1, train_loader,\n",
    "                                        optimizer, criterion)\n",
    "    val_loss, val_acc = validate(resnet1, val_loader, criterion)\n",
    "    \n",
    "    message = print(f'{epoch} Train Loss: {train_loss:.4f} Train Acc: {train_acc:.4f} Val Loss: {val_loss:.4f} Val Acc: {val_acc:.4f}')\n",
    "    \n",
    "    print(message)\n",
    "    \n",
    "    epochs.append(epoch)\n",
    "    loss_train.append(train_loss)\n",
    "    loss_val.append(val_loss)\n",
    "    acc_train.append(train_acc)\n",
    "    acc_val.append(val_acc)"
   ]
  },
  {
   "cell_type": "code",
   "execution_count": 21,
   "id": "76a02766",
   "metadata": {
    "execution": {
     "iopub.execute_input": "2022-08-13T10:36:55.331569Z",
     "iopub.status.busy": "2022-08-13T10:36:55.330727Z",
     "iopub.status.idle": "2022-08-13T10:36:55.747277Z",
     "shell.execute_reply": "2022-08-13T10:36:55.745861Z"
    },
    "papermill": {
     "duration": 0.465181,
     "end_time": "2022-08-13T10:36:55.750935",
     "exception": false,
     "start_time": "2022-08-13T10:36:55.285754",
     "status": "completed"
    },
    "tags": []
   },
   "outputs": [
    {
     "data": {
      "text/plain": [
       "<matplotlib.legend.Legend at 0x7f624ccbce50>"
      ]
     },
     "execution_count": 21,
     "metadata": {},
     "output_type": "execute_result"
    },
    {
     "data": {
      "image/png": "[encoded data removed]",
      "text/plain": [
       "<Figure size 432x288 with 1 Axes>"
      ]
     },
     "metadata": {
      "needs_background": "light"
     },
     "output_type": "display_data"
    }
   ],
   "source": [
    "## Plotting Training accuracy against the epochs\n",
    "plt.plot(epochs,acc_train, 'r-',label='Train Accuracy')\n",
    "plt.plot(epochs,acc_val, 'g-',label='Val Accuracy')\n",
    "plt.xlabel(\"Epochs\")\n",
    "plt.ylabel(\"Accuracy\")\n",
    "plt.title(\"Train accuracy and validation accuracy --ResNet 18\")\n",
    "plt.legend()"
   ]
  },
  {
   "cell_type": "code",
   "execution_count": 22,
   "id": "9564faf2",
   "metadata": {
    "execution": {
     "iopub.execute_input": "2022-08-13T10:36:55.814166Z",
     "iopub.status.busy": "2022-08-13T10:36:55.813515Z",
     "iopub.status.idle": "2022-08-13T10:36:56.175436Z",
     "shell.execute_reply": "2022-08-13T10:36:56.174062Z"
    },
    "papermill": {
     "duration": 0.396224,
     "end_time": "2022-08-13T10:36:56.178931",
     "exception": false,
     "start_time": "2022-08-13T10:36:55.782707",
     "status": "completed"
    },
    "tags": []
   },
   "outputs": [
    {
     "data": {
      "text/plain": [
       "<matplotlib.legend.Legend at 0x7f624cdc6250>"
      ]
     },
     "execution_count": 22,
     "metadata": {},
     "output_type": "execute_result"
    },
    {
     "data": {
      "image/png": "[encoded data removed]",
      "text/plain": [
       "<Figure size 432x288 with 1 Axes>"
      ]
     },
     "metadata": {
      "needs_background": "light"
     },
     "output_type": "display_data"
    }
   ],
   "source": [
    "## Plotting Training accuracy against the epochs\n",
    "plt.plot(epochs,loss_train, 'r-',label='Train Loss')\n",
    "plt.plot(epochs,loss_val, 'g-',label='Val Loss')\n",
    "plt.xlabel(\"Epochs\")\n",
    "plt.ylabel(\"Accuracy\")\n",
    "plt.title(\"Train loss and validation loss v/s --ResNet 18\")\n",
    "plt.legend()"
   ]
  },
  {
   "cell_type": "code",
   "execution_count": 23,
   "id": "27a2d58e",
   "metadata": {
    "execution": {
     "iopub.execute_input": "2022-08-13T10:36:56.240676Z",
     "iopub.status.busy": "2022-08-13T10:36:56.240039Z",
     "iopub.status.idle": "2022-08-13T10:37:25.015268Z",
     "shell.execute_reply": "2022-08-13T10:37:25.012733Z"
    },
    "papermill": {
     "duration": 28.808952,
     "end_time": "2022-08-13T10:37:25.018467",
     "exception": false,
     "start_time": "2022-08-13T10:36:56.209515",
     "status": "completed"
    },
    "tags": []
   },
   "outputs": [
    {
     "name": "stdout",
     "output_type": "stream",
     "text": [
      "accuracy of the network on test set:77.85102040816327%\n"
     ]
    }
   ],
   "source": [
    "correct = 0 # number of correct predictions\n",
    "total   = 0 # number of samples in test set\n",
    "\n",
    "with torch.no_grad():\n",
    "    for data in test_loader:\n",
    "        images, labels = data\n",
    "        images, labels =images.to(device), labels.to(device)\n",
    "        model.eval()\n",
    "        outputs = resnet1(images)\n",
    "        _,predicted = torch.max(outputs.data , 1)\n",
    "        total += labels.size(0)\n",
    "        correct += ((predicted.cpu() == labels.cpu()).numpy()).sum()\n",
    "print(f\"accuracy of the network on test set:{100*correct/total}%\")"
   ]
  },
  {
   "cell_type": "markdown",
   "id": "0982f644",
   "metadata": {
    "papermill": {
     "duration": 0.016901,
     "end_time": "2022-08-13T10:37:25.053972",
     "exception": false,
     "start_time": "2022-08-13T10:37:25.037071",
     "status": "completed"
    },
    "tags": []
   },
   "source": [
    "### Try 2: Freezing the Convnet weights\n",
    "- ResNet18 trained on Imagenet will be used.\n",
    "- Only the fully connected layer will be trained, by freezing the weights for all other layers."
   ]
  },
  {
   "cell_type": "code",
   "execution_count": 24,
   "id": "50e56d34",
   "metadata": {
    "execution": {
     "iopub.execute_input": "2022-08-13T10:37:25.091805Z",
     "iopub.status.busy": "2022-08-13T10:37:25.090611Z",
     "iopub.status.idle": "2022-08-13T10:37:25.400111Z",
     "shell.execute_reply": "2022-08-13T10:37:25.398787Z"
    },
    "papermill": {
     "duration": 0.331779,
     "end_time": "2022-08-13T10:37:25.403533",
     "exception": false,
     "start_time": "2022-08-13T10:37:25.071754",
     "status": "completed"
    },
    "tags": []
   },
   "outputs": [],
   "source": [
    "# importing resnet18 from torchvision with pretrained weights\n",
    "resnet = torchvision.models.resnet18(pretrained=True)\n",
    "\n"
   ]
  },
  {
   "cell_type": "code",
   "execution_count": 25,
   "id": "533fe7a6",
   "metadata": {
    "execution": {
     "iopub.execute_input": "2022-08-13T10:37:25.441027Z",
     "iopub.status.busy": "2022-08-13T10:37:25.440658Z",
     "iopub.status.idle": "2022-08-13T10:37:25.448677Z",
     "shell.execute_reply": "2022-08-13T10:37:25.447314Z"
    },
    "papermill": {
     "duration": 0.030061,
     "end_time": "2022-08-13T10:37:25.451549",
     "exception": false,
     "start_time": "2022-08-13T10:37:25.421488",
     "status": "completed"
    },
    "tags": []
   },
   "outputs": [],
   "source": [
    "# freezing weights in all the layers\n",
    "for param in resnet.parameters():\n",
    "    param.requires_grad = False\n",
    "\n",
    "# modifying the fully connected layer \n",
    "fc_in = resnet.fc.in_features\n",
    "resnet.fc = nn.Linear(fc_in, 10)"
   ]
  },
  {
   "cell_type": "code",
   "execution_count": 26,
   "id": "d4c5a844",
   "metadata": {
    "execution": {
     "iopub.execute_input": "2022-08-13T10:37:25.487675Z",
     "iopub.status.busy": "2022-08-13T10:37:25.487227Z",
     "iopub.status.idle": "2022-08-13T10:37:25.507489Z",
     "shell.execute_reply": "2022-08-13T10:37:25.506137Z"
    },
    "papermill": {
     "duration": 0.042943,
     "end_time": "2022-08-13T10:37:25.510646",
     "exception": false,
     "start_time": "2022-08-13T10:37:25.467703",
     "status": "completed"
    },
    "tags": []
   },
   "outputs": [],
   "source": [
    "resnet = resnet.to(device)"
   ]
  },
  {
   "cell_type": "code",
   "execution_count": 27,
   "id": "cbab99ba",
   "metadata": {
    "execution": {
     "iopub.execute_input": "2022-08-13T10:37:25.547096Z",
     "iopub.status.busy": "2022-08-13T10:37:25.546739Z",
     "iopub.status.idle": "2022-08-13T10:37:25.555255Z",
     "shell.execute_reply": "2022-08-13T10:37:25.553670Z"
    },
    "papermill": {
     "duration": 0.029958,
     "end_time": "2022-08-13T10:37:25.558353",
     "exception": false,
     "start_time": "2022-08-13T10:37:25.528395",
     "status": "completed"
    },
    "tags": []
   },
   "outputs": [],
   "source": [
    "criterion = nn.CrossEntropyLoss()\n",
    "optimizer = optim.Adam(resnet.fc.parameters(), lr=1e-3)"
   ]
  },
  {
   "cell_type": "code",
   "execution_count": 28,
   "id": "ba0b508e",
   "metadata": {
    "execution": {
     "iopub.execute_input": "2022-08-13T10:37:25.594812Z",
     "iopub.status.busy": "2022-08-13T10:37:25.594498Z",
     "iopub.status.idle": "2022-08-13T10:52:27.517629Z",
     "shell.execute_reply": "2022-08-13T10:52:27.515802Z"
    },
    "papermill": {
     "duration": 901.963841,
     "end_time": "2022-08-13T10:52:27.539605",
     "exception": false,
     "start_time": "2022-08-13T10:37:25.575764",
     "status": "completed"
    },
    "tags": []
   },
   "outputs": [
    {
     "name": "stdout",
     "output_type": "stream",
     "text": [
      "0 Train Loss: 1.9663 Train Acc: 0.2958 Val Loss: 1.8987 Val Acc: 0.3354\n",
      "None\n",
      "1 Train Loss: 1.8766 Train Acc: 0.3317 Val Loss: 1.8657 Val Acc: 0.3363\n",
      "None\n",
      "2 Train Loss: 1.8644 Train Acc: 0.3386 Val Loss: 1.8101 Val Acc: 0.3605\n",
      "None\n",
      "3 Train Loss: 1.8465 Train Acc: 0.3421 Val Loss: 1.9020 Val Acc: 0.3518\n",
      "None\n",
      "4 Train Loss: 1.8517 Train Acc: 0.3441 Val Loss: 1.8263 Val Acc: 0.3654\n",
      "None\n",
      "5 Train Loss: 1.8523 Train Acc: 0.3401 Val Loss: 1.8241 Val Acc: 0.3373\n",
      "None\n",
      "6 Train Loss: 1.8473 Train Acc: 0.3459 Val Loss: 1.8191 Val Acc: 0.3584\n",
      "None\n",
      "7 Train Loss: 1.8503 Train Acc: 0.3444 Val Loss: 1.8657 Val Acc: 0.3607\n",
      "None\n",
      "8 Train Loss: 1.8475 Train Acc: 0.3450 Val Loss: 1.8500 Val Acc: 0.3645\n",
      "None\n",
      "9 Train Loss: 1.8467 Train Acc: 0.3445 Val Loss: 1.8430 Val Acc: 0.3393\n",
      "None\n",
      "10 Train Loss: 1.8471 Train Acc: 0.3442 Val Loss: 1.8664 Val Acc: 0.3328\n",
      "None\n",
      "11 Train Loss: 1.8445 Train Acc: 0.3445 Val Loss: 1.8245 Val Acc: 0.3715\n",
      "None\n",
      "12 Train Loss: 1.8483 Train Acc: 0.3444 Val Loss: 1.8085 Val Acc: 0.3604\n",
      "None\n",
      "13 Train Loss: 1.8429 Train Acc: 0.3455 Val Loss: 1.8022 Val Acc: 0.3547\n",
      "None\n",
      "14 Train Loss: 1.8455 Train Acc: 0.3422 Val Loss: 1.7921 Val Acc: 0.3881\n",
      "None\n",
      "15 Train Loss: 1.8498 Train Acc: 0.3429 Val Loss: 1.7766 Val Acc: 0.3566\n",
      "None\n",
      "16 Train Loss: 1.8518 Train Acc: 0.3435 Val Loss: 1.7710 Val Acc: 0.3654\n",
      "None\n",
      "17 Train Loss: 1.8570 Train Acc: 0.3406 Val Loss: 1.8372 Val Acc: 0.3461\n",
      "None\n",
      "18 Train Loss: 1.8485 Train Acc: 0.3437 Val Loss: 1.8378 Val Acc: 0.3516\n",
      "None\n",
      "19 Train Loss: 1.8479 Train Acc: 0.3424 Val Loss: 1.7735 Val Acc: 0.3932\n",
      "None\n",
      "20 Train Loss: 1.8423 Train Acc: 0.3475 Val Loss: 1.8370 Val Acc: 0.3574\n",
      "None\n",
      "21 Train Loss: 1.8489 Train Acc: 0.3433 Val Loss: 1.8253 Val Acc: 0.3574\n",
      "None\n",
      "22 Train Loss: 1.8500 Train Acc: 0.3446 Val Loss: 1.8519 Val Acc: 0.3508\n",
      "None\n",
      "23 Train Loss: 1.8486 Train Acc: 0.3430 Val Loss: 1.8423 Val Acc: 0.3531\n",
      "None\n",
      "24 Train Loss: 1.8459 Train Acc: 0.3443 Val Loss: 1.8131 Val Acc: 0.3619\n",
      "None\n",
      "25 Train Loss: 1.8459 Train Acc: 0.3429 Val Loss: 1.8334 Val Acc: 0.3479\n",
      "None\n",
      "26 Train Loss: 1.8447 Train Acc: 0.3427 Val Loss: 1.8903 Val Acc: 0.3275\n",
      "None\n",
      "27 Train Loss: 1.8442 Train Acc: 0.3450 Val Loss: 1.7602 Val Acc: 0.3912\n",
      "None\n",
      "28 Train Loss: 1.8514 Train Acc: 0.3425 Val Loss: 1.8225 Val Acc: 0.3613\n",
      "None\n",
      "29 Train Loss: 1.8480 Train Acc: 0.3422 Val Loss: 1.8371 Val Acc: 0.3607\n",
      "None\n"
     ]
    }
   ],
   "source": [
    "## Training resnet18 on CIFAR 10\n",
    "epochs     = []\n",
    "loss_train = []\n",
    "acc_train  = []\n",
    "loss_val   = []\n",
    "acc_val    = []\n",
    "for epoch in range(30):\n",
    "    train_loss,train_acc, model = train_one_epoch(resnet, train_loader,\n",
    "                                        optimizer, criterion)\n",
    "    val_loss, val_acc = validate(resnet, val_loader, criterion)\n",
    "    \n",
    "    message = print(f'{epoch} Train Loss: {train_loss:.4f} Train Acc: {train_acc:.4f} Val Loss: {val_loss:.4f} Val Acc: {val_acc:.4f}')\n",
    "    \n",
    "    print(message)\n",
    "    \n",
    "    epochs.append(epoch)\n",
    "    loss_train.append(train_loss)\n",
    "    loss_val.append(val_loss)\n",
    "    acc_train.append(train_acc)\n",
    "    acc_val.append(val_acc)"
   ]
  },
  {
   "cell_type": "code",
   "execution_count": 29,
   "id": "3faf720e",
   "metadata": {
    "execution": {
     "iopub.execute_input": "2022-08-13T10:52:27.580759Z",
     "iopub.status.busy": "2022-08-13T10:52:27.580319Z",
     "iopub.status.idle": "2022-08-13T10:52:27.837946Z",
     "shell.execute_reply": "2022-08-13T10:52:27.836667Z"
    },
    "papermill": {
     "duration": 0.281825,
     "end_time": "2022-08-13T10:52:27.840721",
     "exception": false,
     "start_time": "2022-08-13T10:52:27.558896",
     "status": "completed"
    },
    "tags": []
   },
   "outputs": [
    {
     "data": {
      "text/plain": [
       "<matplotlib.legend.Legend at 0x7f62241a7c90>"
      ]
     },
     "execution_count": 29,
     "metadata": {},
     "output_type": "execute_result"
    },
    {
     "data": {
      "image/png": "[encoded data removed]",
      "text/plain": [
       "<Figure size 432x288 with 1 Axes>"
      ]
     },
     "metadata": {
      "needs_background": "light"
     },
     "output_type": "display_data"
    }
   ],
   "source": [
    "## Plotting Training accuracy against the epochs\n",
    "plt.plot(epochs,acc_train, 'r-',label='Train Accuracy')\n",
    "plt.plot(epochs,acc_val, 'g-',label='Val Accuracy')\n",
    "plt.xlabel(\"Epochs\")\n",
    "plt.ylabel(\"Accuracy\")\n",
    "plt.title(\"Train accuracy and validation accuracy --ResNet 18\")\n",
    "plt.legend()"
   ]
  },
  {
   "cell_type": "code",
   "execution_count": 30,
   "id": "2e3105ff",
   "metadata": {
    "execution": {
     "iopub.execute_input": "2022-08-13T10:52:27.883712Z",
     "iopub.status.busy": "2022-08-13T10:52:27.881659Z",
     "iopub.status.idle": "2022-08-13T10:52:28.298653Z",
     "shell.execute_reply": "2022-08-13T10:52:28.297390Z"
    },
    "papermill": {
     "duration": 0.440188,
     "end_time": "2022-08-13T10:52:28.301194",
     "exception": false,
     "start_time": "2022-08-13T10:52:27.861006",
     "status": "completed"
    },
    "tags": []
   },
   "outputs": [
    {
     "data": {
      "text/plain": [
       "<matplotlib.legend.Legend at 0x7f62241dc810>"
      ]
     },
     "execution_count": 30,
     "metadata": {},
     "output_type": "execute_result"
    },
    {
     "data": {
      "image/png": "[encoded data removed]",
      "text/plain": [
       "<Figure size 432x288 with 1 Axes>"
      ]
     },
     "metadata": {
      "needs_background": "light"
     },
     "output_type": "display_data"
    }
   ],
   "source": [
    "## Plotting Training accuracy against the epochs\n",
    "plt.plot(epochs,loss_train, 'r-',label='Train Loss')\n",
    "plt.plot(epochs,loss_val, 'g-',label='Val Loss')\n",
    "plt.xlabel(\"Epochs\")\n",
    "plt.ylabel(\"Accuracy\")\n",
    "plt.title(\"Train loss and validation loss v/s --ResNet 18\")\n",
    "plt.legend()"
   ]
  },
  {
   "cell_type": "code",
   "execution_count": 31,
   "id": "5ca2b54b",
   "metadata": {
    "execution": {
     "iopub.execute_input": "2022-08-13T10:52:28.344840Z",
     "iopub.status.busy": "2022-08-13T10:52:28.344508Z",
     "iopub.status.idle": "2022-08-13T10:52:56.374191Z",
     "shell.execute_reply": "2022-08-13T10:52:56.372223Z"
    },
    "papermill": {
     "duration": 28.056322,
     "end_time": "2022-08-13T10:52:56.378629",
     "exception": false,
     "start_time": "2022-08-13T10:52:28.322307",
     "status": "completed"
    },
    "tags": []
   },
   "outputs": [
    {
     "name": "stdout",
     "output_type": "stream",
     "text": [
      "accuracy of the network on test set:36.63469387755102%\n"
     ]
    }
   ],
   "source": [
    "correct = 0 # number of correct predictions\n",
    "total   = 0 # number of samples in test set\n",
    "\n",
    "with torch.no_grad():\n",
    "    for data in test_loader:\n",
    "        images, labels = data\n",
    "        images, labels =images.to(device), labels.to(device)\n",
    "        model.eval()\n",
    "        outputs = resnet(images)\n",
    "        _,predicted = torch.max(outputs.data , 1)\n",
    "        total += labels.size(0)\n",
    "        correct += ((predicted.cpu() == labels.cpu()).numpy()).sum()\n",
    "print(f\"accuracy of the network on test set:{100*correct/total}%\")\n",
    "        "
   ]
  },
  {
   "cell_type": "code",
   "execution_count": null,
   "id": "cd8e6174",
   "metadata": {
    "papermill": {
     "duration": 0.02015,
     "end_time": "2022-08-13T10:52:56.420781",
     "exception": false,
     "start_time": "2022-08-13T10:52:56.400631",
     "status": "completed"
    },
    "tags": []
   },
   "outputs": [],
   "source": []
  }
 ],
 "metadata": {
  "kernelspec": {
   "display_name": "Python 3",
   "language": "python",
   "name": "python3"
  },
  "language_info": {
   "codemirror_mode": {
    "name": "ipython",
    "version": 3
   },
   "file_extension": ".py",
   "mimetype": "text/x-python",
   "name": "python",
   "nbconvert_exporter": "python",
   "pygments_lexer": "ipython3",
   "version": "3.7.12"
  },
  "papermill": {
   "default_parameters": {},
   "duration": 3278.304124,
   "end_time": "2022-08-13T10:52:59.595461",
   "environment_variables": {},
   "exception": null,
   "input_path": "__notebook__.ipynb",
   "output_path": "__notebook__.ipynb",
   "parameters": {},
   "start_time": "2022-08-13T09:58:21.291337",
   "version": "2.3.4"
  },
  "widgets": {
   "application/vnd.jupyter.widget-state+json": {
    "state": {
     "1eadc26882cf4d9eb504328ea893b7cf": {
      "model_module": "@jupyter-widgets/controls",
      "model_module_version": "1.5.0",
      "model_name": "FloatProgressModel",
      "state": {
       "_dom_classes": [],
       "_model_module": "@jupyter-widgets/controls",
       "_model_module_version": "1.5.0",
       "_model_name": "FloatProgressModel",
       "_view_count": null,
       "_view_module": "@jupyter-widgets/controls",
       "_view_module_version": "1.5.0",
       "_view_name": "ProgressView",
       "bar_style": "success",
       "description": "",
       "description_tooltip": null,
       "layout": "IPY_MODEL_220b795e5319439a90ed408f3a92cfd2",
       "max": 46830571.0,
       "min": 0.0,
       "orientation": "horizontal",
       "style": "IPY_MODEL_2613da0fcd6d46c9acf608d3606cc06e",
       "value": 46830571.0
      }
     },
     "220b795e5319439a90ed408f3a92cfd2": {
      "model_module": "@jupyter-widgets/base",
      "model_module_version": "1.2.0",
      "model_name": "LayoutModel",
      "state": {
       "_model_module": "@jupyter-widgets/base",
       "_model_module_version": "1.2.0",
       "_model_name": "LayoutModel",
       "_view_count": null,
       "_view_module": "@jupyter-widgets/base",
       "_view_module_version": "1.2.0",
       "_view_name": "LayoutView",
       "align_content": null,
       "align_items": null,
       "align_self": null,
       "border": null,
       "bottom": null,
       "display": null,
       "flex": null,
       "flex_flow": null,
       "grid_area": null,
       "grid_auto_columns": null,
       "grid_auto_flow": null,
       "grid_auto_rows": null,
       "grid_column": null,
       "grid_gap": null,
       "grid_row": null,
       "grid_template_areas": null,
       "grid_template_columns": null,
       "grid_template_rows": null,
       "height": null,
       "justify_content": null,
       "justify_items": null,
       "left": null,
       "margin": null,
       "max_height": null,
       "max_width": null,
       "min_height": null,
       "min_width": null,
       "object_fit": null,
       "object_position": null,
       "order": null,
       "overflow": null,
       "overflow_x": null,
       "overflow_y": null,
       "padding": null,
       "right": null,
       "top": null,
       "visibility": null,
       "width": null
      }
     },
     "2613da0fcd6d46c9acf608d3606cc06e": {
      "model_module": "@jupyter-widgets/controls",
      "model_module_version": "1.5.0",
      "model_name": "ProgressStyleModel",
      "state": {
       "_model_module": "@jupyter-widgets/controls",
       "_model_module_version": "1.5.0",
       "_model_name": "ProgressStyleModel",
       "_view_count": null,
       "_view_module": "@jupyter-widgets/base",
       "_view_module_version": "1.2.0",
       "_view_name": "StyleView",
       "bar_color": null,
       "description_width": ""
      }
     },
     "2624bbd0657b4836a52924cfd474d977": {
      "model_module": "@jupyter-widgets/controls",
      "model_module_version": "1.5.0",
      "model_name": "HTMLModel",
      "state": {
       "_dom_classes": [],
       "_model_module": "@jupyter-widgets/controls",
       "_model_module_version": "1.5.0",
       "_model_name": "HTMLModel",
       "_view_count": null,
       "_view_module": "@jupyter-widgets/controls",
       "_view_module_version": "1.5.0",
       "_view_name": "HTMLView",
       "description": "",
       "description_tooltip": null,
       "layout": "IPY_MODEL_7364193c3db74775b953507f78782269",
       "placeholder": "​",
       "style": "IPY_MODEL_c13fcf07592d481794f07578f506240e",
       "value": "100%"
      }
     },
     "32bb0ae58a324f0bb97bd1b099a85683": {
      "model_module": "@jupyter-widgets/controls",
      "model_module_version": "1.5.0",
      "model_name": "DescriptionStyleModel",
      "state": {
       "_model_module": "@jupyter-widgets/controls",
       "_model_module_version": "1.5.0",
       "_model_name": "DescriptionStyleModel",
       "_view_count": null,
       "_view_module": "@jupyter-widgets/base",
       "_view_module_version": "1.2.0",
       "_view_name": "StyleView",
       "description_width": ""
      }
     },
     "32c8b8fac2bf457aaae1bbe995744609": {
      "model_module": "@jupyter-widgets/base",
      "model_module_version": "1.2.0",
      "model_name": "LayoutModel",
      "state": {
       "_model_module": "@jupyter-widgets/base",
       "_model_module_version": "1.2.0",
       "_model_name": "LayoutModel",
       "_view_count": null,
       "_view_module": "@jupyter-widgets/base",
       "_view_module_version": "1.2.0",
       "_view_name": "LayoutView",
       "align_content": null,
       "align_items": null,
       "align_self": null,
       "border": null,
       "bottom": null,
       "display": null,
       "flex": null,
       "flex_flow": null,
       "grid_area": null,
       "grid_auto_columns": null,
       "grid_auto_flow": null,
       "grid_auto_rows": null,
       "grid_column": null,
       "grid_gap": null,
       "grid_row": null,
       "grid_template_areas": null,
       "grid_template_columns": null,
       "grid_template_rows": null,
       "height": null,
       "justify_content": null,
       "justify_items": null,
       "left": null,
       "margin": null,
       "max_height": null,
       "max_width": null,
       "min_height": null,
       "min_width": null,
       "object_fit": null,
       "object_position": null,
       "order": null,
       "overflow": null,
       "overflow_x": null,
       "overflow_y": null,
       "padding": null,
       "right": null,
       "top": null,
       "visibility": null,
       "width": null
      }
     },
     "3485bb21bdc6499d947e452109347cbf": {
      "model_module": "@jupyter-widgets/base",
      "model_module_version": "1.2.0",
      "model_name": "LayoutModel",
      "state": {
       "_model_module": "@jupyter-widgets/base",
       "_model_module_version": "1.2.0",
       "_model_name": "LayoutModel",
       "_view_count": null,
       "_view_module": "@jupyter-widgets/base",
       "_view_module_version": "1.2.0",
       "_view_name": "LayoutView",
       "align_content": null,
       "align_items": null,
       "align_self": null,
       "border": null,
       "bottom": null,
       "display": null,
       "flex": null,
       "flex_flow": null,
       "grid_area": null,
       "grid_auto_columns": null,
       "grid_auto_flow": null,
       "grid_auto_rows": null,
       "grid_column": null,
       "grid_gap": null,
       "grid_row": null,
       "grid_template_areas": null,
       "grid_template_columns": null,
       "grid_template_rows": null,
       "height": null,
       "justify_content": null,
       "justify_items": null,
       "left": null,
       "margin": null,
       "max_height": null,
       "max_width": null,
       "min_height": null,
       "min_width": null,
       "object_fit": null,
       "object_position": null,
       "order": null,
       "overflow": null,
       "overflow_x": null,
       "overflow_y": null,
       "padding": null,
       "right": null,
       "top": null,
       "visibility": null,
       "width": null
      }
     },
     "67ac15df86564bc48b2f49dfb78f0670": {
      "model_module": "@jupyter-widgets/base",
      "model_module_version": "1.2.0",
      "model_name": "LayoutModel",
      "state": {
       "_model_module": "@jupyter-widgets/base",
       "_model_module_version": "1.2.0",
       "_model_name": "LayoutModel",
       "_view_count": null,
       "_view_module": "@jupyter-widgets/base",
       "_view_module_version": "1.2.0",
       "_view_name": "LayoutView",
       "align_content": null,
       "align_items": null,
       "align_self": null,
       "border": null,
       "bottom": null,
       "display": null,
       "flex": null,
       "flex_flow": null,
       "grid_area": null,
       "grid_auto_columns": null,
       "grid_auto_flow": null,
       "grid_auto_rows": null,
       "grid_column": null,
       "grid_gap": null,
       "grid_row": null,
       "grid_template_areas": null,
       "grid_template_columns": null,
       "grid_template_rows": null,
       "height": null,
       "justify_content": null,
       "justify_items": null,
       "left": null,
       "margin": null,
       "max_height": null,
       "max_width": null,
       "min_height": null,
       "min_width": null,
       "object_fit": null,
       "object_position": null,
       "order": null,
       "overflow": null,
       "overflow_x": null,
       "overflow_y": null,
       "padding": null,
       "right": null,
       "top": null,
       "visibility": null,
       "width": null
      }
     },
     "6e659f0e908d4611a34b4f3e8c57d379": {
      "model_module": "@jupyter-widgets/base",
      "model_module_version": "1.2.0",
      "model_name": "LayoutModel",
      "state": {
       "_model_module": "@jupyter-widgets/base",
       "_model_module_version": "1.2.0",
       "_model_name": "LayoutModel",
       "_view_count": null,
       "_view_module": "@jupyter-widgets/base",
       "_view_module_version": "1.2.0",
       "_view_name": "LayoutView",
       "align_content": null,
       "align_items": null,
       "align_self": null,
       "border": null,
       "bottom": null,
       "display": null,
       "flex": null,
       "flex_flow": null,
       "grid_area": null,
       "grid_auto_columns": null,
       "grid_auto_flow": null,
       "grid_auto_rows": null,
       "grid_column": null,
       "grid_gap": null,
       "grid_row": null,
       "grid_template_areas": null,
       "grid_template_columns": null,
       "grid_template_rows": null,
       "height": null,
       "justify_content": null,
       "justify_items": null,
       "left": null,
       "margin": null,
       "max_height": null,
       "max_width": null,
       "min_height": null,
       "min_width": null,
       "object_fit": null,
       "object_position": null,
       "order": null,
       "overflow": null,
       "overflow_x": null,
       "overflow_y": null,
       "padding": null,
       "right": null,
       "top": null,
       "visibility": null,
       "width": null
      }
     },
     "709b736f5fd24c98b8b990d63838bd2f": {
      "model_module": "@jupyter-widgets/controls",
      "model_module_version": "1.5.0",
      "model_name": "HBoxModel",
      "state": {
       "_dom_classes": [],
       "_model_module": "@jupyter-widgets/controls",
       "_model_module_version": "1.5.0",
       "_model_name": "HBoxModel",
       "_view_count": null,
       "_view_module": "@jupyter-widgets/controls",
       "_view_module_version": "1.5.0",
       "_view_name": "HBoxView",
       "box_style": "",
       "children": [
        "IPY_MODEL_7d969f6bd48b4e3f8b24f8e99cf3a80f",
        "IPY_MODEL_b98ae7f0ff7d44d1ac0383ef9395021e",
        "IPY_MODEL_71a59cb23d174fc4a9be13a812e0b52b"
       ],
       "layout": "IPY_MODEL_32c8b8fac2bf457aaae1bbe995744609"
      }
     },
     "71a59cb23d174fc4a9be13a812e0b52b": {
      "model_module": "@jupyter-widgets/controls",
      "model_module_version": "1.5.0",
      "model_name": "HTMLModel",
      "state": {
       "_dom_classes": [],
       "_model_module": "@jupyter-widgets/controls",
       "_model_module_version": "1.5.0",
       "_model_name": "HTMLModel",
       "_view_count": null,
       "_view_module": "@jupyter-widgets/controls",
       "_view_module_version": "1.5.0",
       "_view_name": "HTMLView",
       "description": "",
       "description_tooltip": null,
       "layout": "IPY_MODEL_67ac15df86564bc48b2f49dfb78f0670",
       "placeholder": "​",
       "style": "IPY_MODEL_32bb0ae58a324f0bb97bd1b099a85683",
       "value": " 170499072/? [00:06&lt;00:00, 31536626.16it/s]"
      }
     },
     "7364193c3db74775b953507f78782269": {
      "model_module": "@jupyter-widgets/base",
      "model_module_version": "1.2.0",
      "model_name": "LayoutModel",
      "state": {
       "_model_module": "@jupyter-widgets/base",
       "_model_module_version": "1.2.0",
       "_model_name": "LayoutModel",
       "_view_count": null,
       "_view_module": "@jupyter-widgets/base",
       "_view_module_version": "1.2.0",
       "_view_name": "LayoutView",
       "align_content": null,
       "align_items": null,
       "align_self": null,
       "border": null,
       "bottom": null,
       "display": null,
       "flex": null,
       "flex_flow": null,
       "grid_area": null,
       "grid_auto_columns": null,
       "grid_auto_flow": null,
       "grid_auto_rows": null,
       "grid_column": null,
       "grid_gap": null,
       "grid_row": null,
       "grid_template_areas": null,
       "grid_template_columns": null,
       "grid_template_rows": null,
       "height": null,
       "justify_content": null,
       "justify_items": null,
       "left": null,
       "margin": null,
       "max_height": null,
       "max_width": null,
       "min_height": null,
       "min_width": null,
       "object_fit": null,
       "object_position": null,
       "order": null,
       "overflow": null,
       "overflow_x": null,
       "overflow_y": null,
       "padding": null,
       "right": null,
       "top": null,
       "visibility": null,
       "width": null
      }
     },
     "757dbfef6a134d4fb616e51e4192a28c": {
      "model_module": "@jupyter-widgets/base",
      "model_module_version": "1.2.0",
      "model_name": "LayoutModel",
      "state": {
       "_model_module": "@jupyter-widgets/base",
       "_model_module_version": "1.2.0",
       "_model_name": "LayoutModel",
       "_view_count": null,
       "_view_module": "@jupyter-widgets/base",
       "_view_module_version": "1.2.0",
       "_view_name": "LayoutView",
       "align_content": null,
       "align_items": null,
       "align_self": null,
       "border": null,
       "bottom": null,
       "display": null,
       "flex": null,
       "flex_flow": null,
       "grid_area": null,
       "grid_auto_columns": null,
       "grid_auto_flow": null,
       "grid_auto_rows": null,
       "grid_column": null,
       "grid_gap": null,
       "grid_row": null,
       "grid_template_areas": null,
       "grid_template_columns": null,
       "grid_template_rows": null,
       "height": null,
       "justify_content": null,
       "justify_items": null,
       "left": null,
       "margin": null,
       "max_height": null,
       "max_width": null,
       "min_height": null,
       "min_width": null,
       "object_fit": null,
       "object_position": null,
       "order": null,
       "overflow": null,
       "overflow_x": null,
       "overflow_y": null,
       "padding": null,
       "right": null,
       "top": null,
       "visibility": null,
       "width": null
      }
     },
     "7d969f6bd48b4e3f8b24f8e99cf3a80f": {
      "model_module": "@jupyter-widgets/controls",
      "model_module_version": "1.5.0",
      "model_name": "HTMLModel",
      "state": {
       "_dom_classes": [],
       "_model_module": "@jupyter-widgets/controls",
       "_model_module_version": "1.5.0",
       "_model_name": "HTMLModel",
       "_view_count": null,
       "_view_module": "@jupyter-widgets/controls",
       "_view_module_version": "1.5.0",
       "_view_name": "HTMLView",
       "description": "",
       "description_tooltip": null,
       "layout": "IPY_MODEL_6e659f0e908d4611a34b4f3e8c57d379",
       "placeholder": "​",
       "style": "IPY_MODEL_a0b2ec538b494aca9ea6d8da4b4fb1b6",
       "value": ""
      }
     },
     "a0b2ec538b494aca9ea6d8da4b4fb1b6": {
      "model_module": "@jupyter-widgets/controls",
      "model_module_version": "1.5.0",
      "model_name": "DescriptionStyleModel",
      "state": {
       "_model_module": "@jupyter-widgets/controls",
       "_model_module_version": "1.5.0",
       "_model_name": "DescriptionStyleModel",
       "_view_count": null,
       "_view_module": "@jupyter-widgets/base",
       "_view_module_version": "1.2.0",
       "_view_name": "StyleView",
       "description_width": ""
      }
     },
     "ad3e5944516b46639e6e5d3bfee786e4": {
      "model_module": "@jupyter-widgets/controls",
      "model_module_version": "1.5.0",
      "model_name": "DescriptionStyleModel",
      "state": {
       "_model_module": "@jupyter-widgets/controls",
       "_model_module_version": "1.5.0",
       "_model_name": "DescriptionStyleModel",
       "_view_count": null,
       "_view_module": "@jupyter-widgets/base",
       "_view_module_version": "1.2.0",
       "_view_name": "StyleView",
       "description_width": ""
      }
     },
     "b98ae7f0ff7d44d1ac0383ef9395021e": {
      "model_module": "@jupyter-widgets/controls",
      "model_module_version": "1.5.0",
      "model_name": "FloatProgressModel",
      "state": {
       "_dom_classes": [],
       "_model_module": "@jupyter-widgets/controls",
       "_model_module_version": "1.5.0",
       "_model_name": "FloatProgressModel",
       "_view_count": null,
       "_view_module": "@jupyter-widgets/controls",
       "_view_module_version": "1.5.0",
       "_view_name": "ProgressView",
       "bar_style": "success",
       "description": "",
       "description_tooltip": null,
       "layout": "IPY_MODEL_f412cbd078d14db69e2bc57c5ec49e9f",
       "max": 170498071.0,
       "min": 0.0,
       "orientation": "horizontal",
       "style": "IPY_MODEL_fe22122d24a947ed85e1bf59a435371c",
       "value": 170498071.0
      }
     },
     "bc786e3a51ac44759d90db519d5472b3": {
      "model_module": "@jupyter-widgets/controls",
      "model_module_version": "1.5.0",
      "model_name": "HTMLModel",
      "state": {
       "_dom_classes": [],
       "_model_module": "@jupyter-widgets/controls",
       "_model_module_version": "1.5.0",
       "_model_name": "HTMLModel",
       "_view_count": null,
       "_view_module": "@jupyter-widgets/controls",
       "_view_module_version": "1.5.0",
       "_view_name": "HTMLView",
       "description": "",
       "description_tooltip": null,
       "layout": "IPY_MODEL_3485bb21bdc6499d947e452109347cbf",
       "placeholder": "​",
       "style": "IPY_MODEL_ad3e5944516b46639e6e5d3bfee786e4",
       "value": " 44.7M/44.7M [00:00&lt;00:00, 73.1MB/s]"
      }
     },
     "c13fcf07592d481794f07578f506240e": {
      "model_module": "@jupyter-widgets/controls",
      "model_module_version": "1.5.0",
      "model_name": "DescriptionStyleModel",
      "state": {
       "_model_module": "@jupyter-widgets/controls",
       "_model_module_version": "1.5.0",
       "_model_name": "DescriptionStyleModel",
       "_view_count": null,
       "_view_module": "@jupyter-widgets/base",
       "_view_module_version": "1.2.0",
       "_view_name": "StyleView",
       "description_width": ""
      }
     },
     "ea4e399ba5ad43cb9934de509c7b17d1": {
      "model_module": "@jupyter-widgets/controls",
      "model_module_version": "1.5.0",
      "model_name": "HBoxModel",
      "state": {
       "_dom_classes": [],
       "_model_module": "@jupyter-widgets/controls",
       "_model_module_version": "1.5.0",
       "_model_name": "HBoxModel",
       "_view_count": null,
       "_view_module": "@jupyter-widgets/controls",
       "_view_module_version": "1.5.0",
       "_view_name": "HBoxView",
       "box_style": "",
       "children": [
        "IPY_MODEL_2624bbd0657b4836a52924cfd474d977",
        "IPY_MODEL_1eadc26882cf4d9eb504328ea893b7cf",
        "IPY_MODEL_bc786e3a51ac44759d90db519d5472b3"
       ],
       "layout": "IPY_MODEL_757dbfef6a134d4fb616e51e4192a28c"
      }
     },
     "f412cbd078d14db69e2bc57c5ec49e9f": {
      "model_module": "@jupyter-widgets/base",
      "model_module_version": "1.2.0",
      "model_name": "LayoutModel",
      "state": {
       "_model_module": "@jupyter-widgets/base",
       "_model_module_version": "1.2.0",
       "_model_name": "LayoutModel",
       "_view_count": null,
       "_view_module": "@jupyter-widgets/base",
       "_view_module_version": "1.2.0",
       "_view_name": "LayoutView",
       "align_content": null,
       "align_items": null,
       "align_self": null,
       "border": null,
       "bottom": null,
       "display": null,
       "flex": null,
       "flex_flow": null,
       "grid_area": null,
       "grid_auto_columns": null,
       "grid_auto_flow": null,
       "grid_auto_rows": null,
       "grid_column": null,
       "grid_gap": null,
       "grid_row": null,
       "grid_template_areas": null,
       "grid_template_columns": null,
       "grid_template_rows": null,
       "height": null,
       "justify_content": null,
       "justify_items": null,
       "left": null,
       "margin": null,
       "max_height": null,
       "max_width": null,
       "min_height": null,
       "min_width": null,
       "object_fit": null,
       "object_position": null,
       "order": null,
       "overflow": null,
       "overflow_x": null,
       "overflow_y": null,
       "padding": null,
       "right": null,
       "top": null,
       "visibility": null,
       "width": null
      }
     },
     "fe22122d24a947ed85e1bf59a435371c": {
      "model_module": "@jupyter-widgets/controls",
      "model_module_version": "1.5.0",
      "model_name": "ProgressStyleModel",
      "state": {
       "_model_module": "@jupyter-widgets/controls",
       "_model_module_version": "1.5.0",
       "_model_name": "ProgressStyleModel",
       "_view_count": null,
       "_view_module": "@jupyter-widgets/base",
       "_view_module_version": "1.2.0",
       "_view_name": "StyleView",
       "bar_color": null,
       "description_width": ""
      }
     }
    },
    "version_major": 2,
    "version_minor": 0
   }
  }
 },
 "nbformat": 4,
 "nbformat_minor": 5
}
